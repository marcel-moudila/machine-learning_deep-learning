{
 "cells": [
  {
   "cell_type": "markdown",
   "metadata": {},
   "source": [
    "# Intelligence Artificielle Avancée\n",
    "\n",
    "# TP1: Prise en main de Pandas et Sickit-Learn\n",
    "\n"
   ]
  },
  {
   "cell_type": "markdown",
   "metadata": {},
   "source": [
    "## Passez de Numpy à Pandas"
   ]
  },
  {
   "cell_type": "markdown",
   "metadata": {},
   "source": [
    "La bibliothèque Pandas a essentiellement trois structures de données:\n",
    "\n",
    "1. Series\n",
    "2. DataFrame\n",
    "3. Panel\n"
   ]
  },
  {
   "cell_type": "markdown",
   "metadata": {},
   "source": [
    "**3.1 Series**"
   ]
  },
  {
   "cell_type": "markdown",
   "metadata": {},
   "source": [
    "La série est un tableau unidimensionnel, qui peut contenir tout type de données, telles que des entiers, des flottants, des chaînes et des objets Python. Une série peut être créée en appelant ce qui suit:"
   ]
  },
  {
   "cell_type": "code",
   "execution_count": null,
   "metadata": {},
   "outputs": [],
   "source": [
    "import numpy as np\n",
    "import pandas as pd\n",
    "pd.Series(np.random.randn(5))"
   ]
  },
  {
   "cell_type": "markdown",
   "metadata": {},
   "source": [
    "L'index de la série peut être personnalisé en appelant ce qui suit:"
   ]
  },
  {
   "cell_type": "code",
   "execution_count": null,
   "metadata": {},
   "outputs": [],
   "source": [
    "pd.Series(np.random.randn(5), index=['a', 'b', 'c', 'd', 'e'])"
   ]
  },
  {
   "cell_type": "markdown",
   "metadata": {},
   "source": [
    "Une série peut également être dérivée d'un dict Python:"
   ]
  },
  {
   "cell_type": "code",
   "execution_count": null,
   "metadata": {},
   "outputs": [],
   "source": [
    "d = {'A': 10, 'B': 20, 'C': 30}\n",
    "pd.Series(d)"
   ]
  },
  {
   "cell_type": "markdown",
   "metadata": {},
   "source": [
    "**3.2 DataFrame**"
   ]
  },
  {
   "cell_type": "markdown",
   "metadata": {},
   "source": [
    "DataFrame est une structure de données 2D avec des colonnes qui peuvent être de différents types de données. Cela peut être vu comme un tableau. Un DataFrame peut être formé à partir des structures de données suivantes:\n",
    "\n",
    "\n",
    "*   A NumPy array\n",
    "*   Lists\n",
    "*   Dicts\n",
    "*  Series\n",
    "*  A 2D NumPy array\n"
   ]
  },
  {
   "cell_type": "markdown",
   "metadata": {},
   "source": [
    "Un DataFrame peut être créé à partir d'tableau numpy:"
   ]
  },
  {
   "cell_type": "code",
   "execution_count": null,
   "metadata": {},
   "outputs": [],
   "source": [
    "import numpy as np\n",
    "import pandas as pd\n",
    "\n",
    "# Création d'un tableau numpy à 2 dimensions\n",
    "data = np.array([[5.8, 2.8], [6.0, 2.2]])\n",
    "print(data)\n",
    "\n",
    "# Création d'un DataFrame Pandas à partir d'un tableau numpy\n",
    "dataset = pd.DataFrame({'Column1': data[:, 0], 'Column2': data[:, 1]})\n",
    "print(dataset)\n",
    "\n"
   ]
  },
  {
   "cell_type": "markdown",
   "metadata": {},
   "source": [
    "Un DataFrame peut être créé également à partir d'un dict de série en utilisant les commandes suivantes:"
   ]
  },
  {
   "cell_type": "code",
   "execution_count": null,
   "metadata": {},
   "outputs": [],
   "source": [
    "d = {'c1': pd.Series(['A', 'B', 'C']),'c2': pd.Series([1, 2., 3., 4.])}\n",
    "df = pd.DataFrame(d)\n",
    "df"
   ]
  },
  {
   "cell_type": "markdown",
   "metadata": {},
   "source": [
    "Pour lire les données d'un fichier .csv, la fonction read_csv suivante peut être utilisée:"
   ]
  },
  {
   "cell_type": "code",
   "execution_count": null,
   "metadata": {},
   "outputs": [],
   "source": [
    "data_url = 'https://archive.ics.uci.edu/ml/machine-learning-databases/car/car.data'\n",
    "# read data from url as pandas dataframe\n",
    "d = pd.read_csv(data_url)\n",
    "print(\"dimensions:\", d.shape)\n",
    "print(d[522:532])"
   ]
  },
  {
   "cell_type": "markdown",
   "metadata": {},
   "source": [
    "Pour écrire des données dans le fichier .csv, la fonction to_csv suivante peut être utilisée:"
   ]
  },
  {
   "cell_type": "code",
   "execution_count": null,
   "metadata": {},
   "outputs": [],
   "source": [
    "d = {'c1': pd.Series(['A', 'B', 'C']), 'c2': pd.Series([1, 2., 3., 4.])}\n",
    "df = pd.DataFrame(d)\n",
    "df.to_csv('sample_data.csv')"
   ]
  },
  {
   "cell_type": "markdown",
   "metadata": {},
   "source": [
    "** Exercices**\n",
    "\n",
    "1. Importez les données de cette URL: https://raw.githubusercontent.com/justmarkham/DAT8/master/data/chipotle.tsv et affectez-les à une variable nommée chipo\n",
    "2. Afficher les 10 premières données (indice: fonction de Pandas head())\n",
    "3. Quel est le nombre de données dans l'ensemble de données?\n",
    "4. Quel est le nombre de colonnes dans l'ensemble de données?\n",
    "5. Imprimez le nom de toutes les colonnes.\n",
    "6. Quel était le revenu de la période dans l'ensemble de données? (indice: 'quantity'\\*'item_price')\n",
    "7. Quel est le montant moyen des revenus par commande? (résultat: 21,394231188658654)"
   ]
  },
  {
   "cell_type": "code",
   "execution_count": null,
   "metadata": {},
   "outputs": [],
   "source": [
    "### Réponses\n",
    "import pandas as pd\n",
    "import numpy as np\n",
    "\n",
    "# 1\n",
    "print(\"Question 1\")\n",
    "\n",
    "\n",
    "# 2\n",
    "\n",
    "\n",
    "# 3\n",
    "\n",
    "\n",
    "# 4\n",
    "\n",
    "\n",
    "# 5\n",
    "\n",
    "\n",
    "# 6\n",
    "\n",
    "\n",
    "# 7\n"
   ]
  },
  {
   "cell_type": "markdown",
   "metadata": {},
   "source": [
    "## Scikit-Learn\n",
    "Scikit-learn est un logiciel écrit en Python, qui nécessite l'installation préalable du langage  Python et des librairies  *NumPy* et  *SciPy* (pour le calcul scientifique), dans des versions qui doivent vérifier certaines contraintes de compatibilité. Sur votre machine personnelle, le plus simple est d'installer une distribution de Python complète, comme Anaconda (https://docs.anaconda.com/anaconda/install/), qui comprend la plupart des librairies courantes développées en Python, dont les trois citées plus haut. Sur les PC de la salle, tout est normalement installé...\n",
    "\n",
    "Le site officiel du logiciel  Scikit-learn est :  http://scikit-learn.org/stable/index.html \n",
    "\n",
    "La documentation en ligne est complète, et devra être consultée chaque fois que nécessaire :\n",
    " \thttp://scikit-learn.org/stable/documentation.html \n",
    "    \n",
    "Des tutoriaux sont disponibles a l'adresse suivante :\n",
    " \thttp://scikit-learn.org/stable/tutorial/index.html\n",
    "\n",
    "### Jeux de données en Scikit-Learn\n",
    "\n",
    "Un certain nombre de jeux de données sont disponibles dans scikit-learn. Il est également possible de générer des données artificielles ou de récupérer des données externes (on fera ça dans les prochains TPs).\n",
    "\n",
    "Documentation relative au chargement de jeux de données :\n",
    "\thttp://scikit-learn.org/stable/datasets/ \n",
    "\n",
    "Les jeux de données disponibles dans scikit-learn sont : iris, boston, diabetes, digits, linnerud, sample images, 20newsgroups.\n",
    "Chacun de ces jeux de données se récupère à l'aide de la commande load_nom-jeu qu'il faut dans un premier temps charger. Par exemple, pour récupérer le jeu iris :"
   ]
  },
  {
   "cell_type": "code",
   "execution_count": null,
   "metadata": {},
   "outputs": [],
   "source": [
    "from sklearn.datasets import load_iris  #importation de la commande\n",
    "irisData = load_iris()"
   ]
  },
  {
   "cell_type": "markdown",
   "metadata": {},
   "source": [
    "On se retrouve alors avec une variable qui contient le jeu de données (ici on l'a appelé *irisData*)\n",
    "\n",
    "Les variables des jeux de données comprennent un certain nombres d'attributs parmi (tous ne sont pas toujours définis) : data, target, target_names, feature_names, DESCR :\n",
    "- *.data* est un tableau de dimensions *(n,m)*. Chacune des *n* lignes correspond à une donnée, chacune des *m* colonnes à un attribut \n",
    "- *.target* stocke les classes (étiquettes/label) de chaque instance (dans le cas supervisé) : c'est un vecteur de taille *n* dont la première valeur est la classe de la donnée de la première ligne de la matrice .data, la deuxième valeur est la classe de la deuxième ligne, etc.\n",
    "- *.target_names* contient le nom des classes\n",
    "- *.feature_names* contient le nom des attributs\n",
    "- *.DESCR* est un texte décrivant le jeu de données."
   ]
  },
  {
   "cell_type": "code",
   "execution_count": null,
   "metadata": {},
   "outputs": [],
   "source": [
    "irisData.data"
   ]
  },
  {
   "cell_type": "code",
   "execution_count": null,
   "metadata": {},
   "outputs": [],
   "source": [
    "irisData.target"
   ]
  },
  {
   "cell_type": "code",
   "execution_count": null,
   "metadata": {},
   "outputs": [],
   "source": [
    "irisData.target_names"
   ]
  },
  {
   "cell_type": "markdown",
   "metadata": {},
   "source": [
    "Noter que le type de tous ces éléments est *array*, un type très utile et central en python pour nous (en fait, le vrai type est s'appelle *ndarray* qui est un type propre à numpy : faites type(irisData.target) par exemple pour vous en assurer : il ne faut pas toujours croire ce que le notebook affiche !)"
   ]
  },
  {
   "cell_type": "markdown",
   "metadata": {},
   "source": [
    "##### Le jeu de données Iris (Fisher, 1936)\n",
    "Iris est un ensemble (=jeu) de données introduit en 1936 par R. Fisher comme un exemple d'analyse discriminante. Cet ensemble contient 150 exemples de critères observés sur 3 espèces différentes d'iris de Gaspésie (Setosa, Versicolor, Verginica). Chaque exemple est composé de quatre attributs (longueur et largeur des sépales en cm, longueur et largeur des pétales en cm) et d'une classe (l'espèce).\n",
    "\n",
    "**Question.** Exécutez **une à une** les commandes suivantes et comprenez ce qu'elles réalisent (vous aurez à les réutiliser)."
   ]
  },
  {
   "cell_type": "code",
   "execution_count": null,
   "metadata": {},
   "outputs": [],
   "source": [
    "len(irisData.data)"
   ]
  },
  {
   "cell_type": "markdown",
   "metadata": {},
   "source": []
  },
  {
   "cell_type": "code",
   "execution_count": null,
   "metadata": {},
   "outputs": [],
   "source": [
    "irisData.target_names[0]"
   ]
  },
  {
   "cell_type": "markdown",
   "metadata": {},
   "source": []
  },
  {
   "cell_type": "code",
   "execution_count": null,
   "metadata": {},
   "outputs": [],
   "source": [
    "irisData.target_names[2]"
   ]
  },
  {
   "cell_type": "markdown",
   "metadata": {},
   "source": []
  },
  {
   "cell_type": "code",
   "execution_count": null,
   "metadata": {},
   "outputs": [],
   "source": [
    "irisData.target_names[-1]"
   ]
  },
  {
   "cell_type": "markdown",
   "metadata": {},
   "source": []
  },
  {
   "cell_type": "code",
   "execution_count": null,
   "metadata": {},
   "outputs": [],
   "source": [
    "irisData.target_names[len(irisData.target_names)]"
   ]
  },
  {
   "cell_type": "markdown",
   "metadata": {},
   "source": []
  },
  {
   "cell_type": "code",
   "execution_count": null,
   "metadata": {},
   "outputs": [],
   "source": [
    "irisData.data.shape"
   ]
  },
  {
   "cell_type": "markdown",
   "metadata": {},
   "source": []
  },
  {
   "cell_type": "code",
   "execution_count": null,
   "metadata": {},
   "outputs": [],
   "source": [
    "irisData.data"
   ]
  },
  {
   "cell_type": "markdown",
   "metadata": {},
   "source": []
  },
  {
   "cell_type": "code",
   "execution_count": null,
   "metadata": {},
   "outputs": [],
   "source": [
    "irisData.data[0]"
   ]
  },
  {
   "cell_type": "markdown",
   "metadata": {},
   "source": []
  },
  {
   "cell_type": "code",
   "execution_count": null,
   "metadata": {},
   "outputs": [],
   "source": [
    "irisData.data[0][1]"
   ]
  },
  {
   "cell_type": "markdown",
   "metadata": {},
   "source": []
  },
  {
   "cell_type": "code",
   "execution_count": null,
   "metadata": {},
   "outputs": [],
   "source": [
    "irisData.data[:,1]    # Celle-ci, il faut vraiment la comprendre !"
   ]
  },
  {
   "cell_type": "markdown",
   "metadata": {},
   "source": []
  },
  {
   "cell_type": "code",
   "execution_count": null,
   "metadata": {},
   "outputs": [],
   "source": [
    "irisData.data[irisData.target==0]    # Et celle-ci aussi !!!"
   ]
  },
  {
   "cell_type": "markdown",
   "metadata": {},
   "source": []
  },
  {
   "cell_type": "code",
   "execution_count": null,
   "metadata": {},
   "outputs": [],
   "source": [
    "irisData.data[:][1]  # pourquoi n'a-t-on pas le même résultat qu'avec [:,1] ?"
   ]
  },
  {
   "cell_type": "markdown",
   "metadata": {},
   "source": []
  },
  {
   "cell_type": "markdown",
   "metadata": {},
   "source": [
    "Vous avez eu une erreur ? Pourquoi ? Refléchissez..."
   ]
  },
  {
   "cell_type": "markdown",
   "metadata": {},
   "source": []
  },
  {
   "cell_type": "markdown",
   "metadata": {},
   "source": [
    "##### Visualiser les données\n",
    "Scikit-Learn  intègre la librairie matplotlib  (http://matplotlib.org/) qui propose de très nombreuses primitives permettant de faire des dessins, et la librairie pylab, qui intègre les librairies NumPy, SciPy  et Matplotlib .\n",
    "\n",
    "Exécutez les commandes suivantes et comprenez ce qu'elles réalisent :"
   ]
  },
  {
   "cell_type": "code",
   "execution_count": null,
   "metadata": {},
   "outputs": [],
   "source": [
    "#%matplotlib inline     # Commande uniquement Notebook : permet l'affichage des courbes\n",
    "import matplotlib.pyplot as plt        #permet d'importer 'pyplot' et de remplacer son nom par 'plt'\n",
    "X = irisData.data\n",
    "Color = irisData.target\n",
    "abscisse = 0\n",
    "ordonnee = 1\n",
    "\n",
    "plt.scatter(X[:, abscisse], X[:, ordonnee], c=Color)   # Définition des abscisses et des ordonnées, ainsi que de la couleur\n",
    "plt.show()    # Affichage de la courbe"
   ]
  },
  {
   "cell_type": "markdown",
   "metadata": {},
   "source": [
    "C'est bien mais pas super : il manque de l'information pour être une vraie courbe. On améliore :"
   ]
  },
  {
   "cell_type": "code",
   "execution_count": null,
   "metadata": {},
   "outputs": [],
   "source": [
    "plt.xlabel(irisData.feature_names[abscisse])    # Nomage de l'axe des abscisses\n",
    "plt.ylabel(irisData.feature_names[ordonnee])    # Nomage de l'axe des ordonnées   \n",
    "plt.title(\"Données Iris - Dimensions des sépales uniquement\") # Et il faut un tritre\n",
    "\n",
    "plt.scatter(X[:, abscisse], X[:, ordonnee], c=Color)   # Re-éfinition des abscisses, ordonnées, et couleurs\n",
    "plt.show()"
   ]
  },
  {
   "cell_type": "markdown",
   "metadata": {},
   "source": [
    "ça commence à ressembler à quelque chose, non ? Reste 2 petits problèmes : il manque la légende pour expliquer le code couleur, et les couleurs ne sont pas très belles (ça c'est une question de goût, mais quand même). Voilà un façon (un peu différente) d'y remédier :"
   ]
  },
  {
   "cell_type": "code",
   "execution_count": null,
   "metadata": {},
   "outputs": [],
   "source": [
    "y = irisData.target\n",
    "colors=[\"red\",\"green\",\"blue\"]\n",
    "differentes_target = set(irisData.target)    # Enlève les doublons\n",
    "for i in differentes_target:\n",
    "\tplt.scatter(X[y==i][:, abscisse],X[y==i][:,ordonnee],color=colors[i], label=irisData.target_names[i])\n",
    "plt.legend()\n",
    "plt.xlabel(irisData.feature_names[abscisse])\n",
    "plt.ylabel(irisData.feature_names[ordonnee])\n",
    "plt.title(\"Données Iris - dimensions des sépales uniquement\")\n",
    "plt.show()"
   ]
  },
  {
   "cell_type": "markdown",
   "metadata": {},
   "source": [
    "**Question.** Les données iris sont décrites par 4 attributs. Il y a 6 en 2 dimensions manières d'en regarder 2. En modifiant le code ci-dessus, déterminez visuellement le couple d'attributs qui semble le mieux a même de séparer clairement les exemples des 3 classes d'iris."
   ]
  },
  {
   "cell_type": "code",
   "execution_count": null,
   "metadata": {},
   "outputs": [],
   "source": [
    "# A vous"
   ]
  },
  {
   "cell_type": "markdown",
   "metadata": {},
   "source": [
    "**Question.** Créez un dataframe avec les variables d'observation irisData.data et les noms de colonnes comme arguments:"
   ]
  },
  {
   "cell_type": "code",
   "execution_count": null,
   "metadata": {},
   "outputs": [],
   "source": [
    "# A vous"
   ]
  },
  {
   "cell_type": "markdown",
   "metadata": {},
   "source": [
    "**Question.** Créez un histogramme des valeurs dans le dataframe pour la longueur sépale:"
   ]
  },
  {
   "cell_type": "code",
   "execution_count": null,
   "metadata": {},
   "outputs": [],
   "source": [
    "# A vous"
   ]
  },
  {
   "cell_type": "markdown",
   "metadata": {},
   "source": [
    "**Question.**. Coloriez l'histogramme par la variable cible (target):"
   ]
  },
  {
   "cell_type": "code",
   "execution_count": null,
   "metadata": {},
   "outputs": [],
   "source": [
    "# A vous"
   ]
  },
  {
   "cell_type": "code",
   "execution_count": null,
   "metadata": {},
   "outputs": [],
   "source": [
    "# A vous"
   ]
  },
  {
   "cell_type": "markdown",
   "metadata": {},
   "source": [
    "**Un nouvel exemple!**"
   ]
  },
  {
   "cell_type": "markdown",
   "metadata": {},
   "source": [
    "**Question.** En utilisant Pandas, charger le fichier \"winequality-red.csv\" à partir de cette adresse URL: \"https://archive.ics.uci.edu/ml/machine-learning-databases/wine-quality/winequality-red.csv\" , avec un séparateur= \" ; "
   ]
  },
  {
   "cell_type": "code",
   "execution_count": null,
   "metadata": {},
   "outputs": [],
   "source": [
    "# A vous"
   ]
  },
  {
   "cell_type": "markdown",
   "metadata": {},
   "source": [
    "**Question.** Afficher les 5 premières lignes"
   ]
  },
  {
   "cell_type": "code",
   "execution_count": null,
   "metadata": {},
   "outputs": [],
   "source": [
    "# A vous"
   ]
  },
  {
   "cell_type": "markdown",
   "metadata": {},
   "source": [
    "**Question.** Afficher les informations du DataFrame, y compris l'index dtype et les colonnes, les valeurs non nulles et l'utilisation de la mémoire."
   ]
  },
  {
   "cell_type": "code",
   "execution_count": null,
   "metadata": {},
   "outputs": [],
   "source": [
    "# A vous"
   ]
  },
  {
   "cell_type": "markdown",
   "metadata": {},
   "source": [
    "**Question.**  Afficher la somme des valeurs nulles pour chaque attribut (feature) du DataFrame"
   ]
  },
  {
   "cell_type": "code",
   "execution_count": null,
   "metadata": {},
   "outputs": [],
   "source": [
    "# A vous"
   ]
  },
  {
   "cell_type": "markdown",
   "metadata": {},
   "source": [
    "**Question.** On voudrait maintenant assigner deux labels: \"bad\" et \"good\" à la colonne quality au lieu de valeurs. Le label \"bad\" signifie que la valeur de qualité est < 6.5 et le label \"good\" sa valeur est > 6.5. A noter que les valeurs de qualités sont comprises entre 2 et 8. Ecrire un code permettant de changer les valeurs de la colonne quality avec ces deux labels."
   ]
  },
  {
   "cell_type": "code",
   "execution_count": null,
   "metadata": {},
   "outputs": [],
   "source": [
    "# A vous"
   ]
  },
  {
   "cell_type": "markdown",
   "metadata": {},
   "source": [
    "**Question.** Ré-afficher les 5 premières colonnes du DataFrame et vérifier les champs de la colonne quality."
   ]
  },
  {
   "cell_type": "code",
   "execution_count": null,
   "metadata": {},
   "outputs": [],
   "source": [
    "# A vous"
   ]
  },
  {
   "cell_type": "markdown",
   "metadata": {},
   "source": [
    "**Question.** Encoder les labels de la colonne quality en valeurs numériques en utilisant une fonction prédéfinie du Sickit-Learn"
   ]
  },
  {
   "cell_type": "code",
   "execution_count": null,
   "metadata": {},
   "outputs": [],
   "source": [
    "# A vous"
   ]
  },
  {
   "cell_type": "markdown",
   "metadata": {},
   "source": [
    "**Question.** Vérifier le résultat des 10 premières lignes"
   ]
  },
  {
   "cell_type": "code",
   "execution_count": null,
   "metadata": {},
   "outputs": [],
   "source": [
    "# A vous"
   ]
  },
  {
   "cell_type": "markdown",
   "metadata": {},
   "source": [
    " **Question.** Compter et afficher le nombre de labels \"good:1\" et \"bad:0\" de la colonne quality"
   ]
  },
  {
   "cell_type": "code",
   "execution_count": null,
   "metadata": {},
   "outputs": [],
   "source": [
    "# A vous"
   ]
  },
  {
   "cell_type": "markdown",
   "metadata": {},
   "source": [
    "   **Question.**  Afficher l'histogramme correspondant en utilisant la librairie \"seaborn\""
   ]
  },
  {
   "cell_type": "code",
   "execution_count": null,
   "metadata": {},
   "outputs": [],
   "source": [
    "# A vous"
   ]
  },
  {
   "cell_type": "markdown",
   "metadata": {},
   "source": [
    "   **Question.** En utilisant Pandas, séparer les données en une variable de réponse Y et des variables de features X"
   ]
  },
  {
   "cell_type": "code",
   "execution_count": null,
   "metadata": {},
   "outputs": [],
   "source": [
    "# A vous"
   ]
  },
  {
   "cell_type": "markdown",
   "metadata": {},
   "source": [
    " **Question.** Vérifier le résultat"
   ]
  },
  {
   "cell_type": "code",
   "execution_count": null,
   "metadata": {},
   "outputs": [],
   "source": [
    "# A vous"
   ]
  },
  {
   "cell_type": "markdown",
   "metadata": {},
   "source": [
    " **Question.** Normaliser les données de X avec les deux méthodes de standarisation et normalisation"
   ]
  },
  {
   "cell_type": "code",
   "execution_count": null,
   "metadata": {},
   "outputs": [],
   "source": [
    "# A vous"
   ]
  },
  {
   "cell_type": "markdown",
   "metadata": {},
   "source": [
    "**Question.** Afficher et intepréter la valeur min() et max () des données normalisées avec les deux méthodes."
   ]
  },
  {
   "cell_type": "code",
   "execution_count": null,
   "metadata": {},
   "outputs": [],
   "source": [
    "# A vous"
   ]
  },
  {
   "cell_type": "markdown",
   "metadata": {},
   "source": [
    "##### Extraire des statistiques des données\n",
    "Un autre type de données est très utile : les dictionnaires. Alors qu'une liste est indéxée par des entiers positifs, un dictionnaire peut être indexé par (presque) tout :"
   ]
  },
  {
   "cell_type": "code",
   "execution_count": null,
   "metadata": {},
   "outputs": [],
   "source": [
    "d = {}    # Création d'un dictionnaire vide\n",
    "d = {\"film\":[\"Ready Player One\", \"Magnolia\"], \"duree\": [120, 90], 42:[\"et\", \"oui\"] }\n",
    "print(d[\"film\"])\n",
    "print(\"Les clés : \", d.keys())\n",
    "print(\"Les valeurs : \", d.values())\n",
    "d[\"film\"].append(\"Les valseuses\")\n",
    "d[\"Annee\"]=2018\n",
    "print(\"A la fin : \", d)"
   ]
  },
  {
   "cell_type": "markdown",
   "metadata": {},
   "source": [
    "**Question.** En lisant les données une par une, remplir un dictionnaire *dico* dont les clés sont : \"petal_length\", \"petal_width\", \"sepal_length\", \"sepal_width\""
   ]
  },
  {
   "cell_type": "code",
   "execution_count": null,
   "metadata": {},
   "outputs": [],
   "source": []
  },
  {
   "cell_type": "markdown",
   "metadata": {},
   "source": [
    "**Question.** Ecrire une fonction display_stat qui prend en entrée un dictionnaire avec les clés de la question précédente et renvoie les statistiques 'moyenne', 'valeur max', 'valeur min', et 'déviation standard' pour chacun des 4 attributs. Ces fonctions sont toutes déjà définies dans le module numpy. Le résultat pourra se présenter sous la forme d'un tableau (pas aussi beau, là c'est du markdown):\n",
    "\n",
    "| Attribut | min | max | moyenne | std |\n",
    "| --- | --- | --- | --- | --- |\n",
    "| sepal_length | 4.30 | 7.90 | 5.84 | 0.83 |\n",
    "| sepal_width | 2.00 |4.40 | 3.05 | 0.43 |\n",
    "| petal_length | 1.00 | 6.90 | 3.76 | 1.76 |\n",
    "| petal_width | 0.10 | 1.20 | 0.76 | 1.00 |\n",
    "\n",
    "   sepal length: 4.3  7.9   5.84  0.83    0.7826   \n",
    "    sepal width: 2.0  4.4   3.05  0.43   -0.4194\n",
    "   petal length: 1.0  6.9   3.76  1.76    0.9490  (high!)\n",
    "    petal width: 0.1  2.5   1.20  0.76    0.9565  (high!)\n"
   ]
  },
  {
   "cell_type": "code",
   "execution_count": null,
   "metadata": {},
   "outputs": [],
   "source": []
  }
 ],
 "metadata": {
  "kernelspec": {
   "display_name": "Python 3",
   "language": "python",
   "name": "python3"
  },
  "language_info": {
   "codemirror_mode": {
    "name": "ipython",
    "version": 3
   },
   "file_extension": ".py",
   "mimetype": "text/x-python",
   "name": "python",
   "nbconvert_exporter": "python",
   "pygments_lexer": "ipython3",
   "version": "3.8.5"
  }
 },
 "nbformat": 4,
 "nbformat_minor": 2
}

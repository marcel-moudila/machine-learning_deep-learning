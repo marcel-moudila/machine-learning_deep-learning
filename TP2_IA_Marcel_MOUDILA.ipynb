{
 "cells": [
  {
   "cell_type": "markdown",
   "metadata": {
    "id": "qVONOxph6TGL"
   },
   "source": [
    "Possibilité 4 : Fashion-MNIST\n",
    "\n",
    "Apprendre un réseau de neuronnes réalisant la classification 10 classes sur les données de l'entreprise de fringues Zalando : https://github.com/zalandoresearch/fashion-mnist "
   ]
  },
  {
   "cell_type": "markdown",
   "metadata": {
    "id": "XA-HQRbIG-f_"
   },
   "source": [
    "# importation des bibliothèques et téléchargement des données"
   ]
  },
  {
   "cell_type": "code",
   "execution_count": 1,
   "metadata": {
    "id": "O2IUQj5UClzs"
   },
   "outputs": [],
   "source": [
    "# importation des bibliothèques\n",
    "import numpy as np\n",
    "import tensorflow as tf\n",
    "from keras.models import Sequential\n",
    "from keras.layers import Dense, activation"
   ]
  },
  {
   "cell_type": "code",
   "execution_count": 2,
   "metadata": {
    "colab": {
     "base_uri": "https://localhost:8080/",
     "height": 0
    },
    "id": "J9tdWlNMFLtC",
    "outputId": "2694a448-94ff-43f9-b2cb-4c01701e1976"
   },
   "outputs": [
    {
     "name": "stdout",
     "output_type": "stream",
     "text": [
      "Downloading data from https://storage.googleapis.com/tensorflow/tf-keras-datasets/train-labels-idx1-ubyte.gz\n",
      "29515/29515 [==============================] - 0s 0us/step\n",
      "Downloading data from https://storage.googleapis.com/tensorflow/tf-keras-datasets/train-images-idx3-ubyte.gz\n",
      "26421880/26421880 [==============================] - 2s 0us/step\n",
      "Downloading data from https://storage.googleapis.com/tensorflow/tf-keras-datasets/t10k-labels-idx1-ubyte.gz\n",
      "5148/5148 [==============================] - 0s 0us/step\n",
      "Downloading data from https://storage.googleapis.com/tensorflow/tf-keras-datasets/t10k-images-idx3-ubyte.gz\n",
      "4422102/4422102 [==============================] - 0s 0us/step\n"
     ]
    }
   ],
   "source": [
    "# téléchargement du jeux des données\n",
    "(x_train, y_train), (x_test, y_test) = tf.keras.datasets.fashion_mnist.load_data()\n"
   ]
  },
  {
   "cell_type": "markdown",
   "metadata": {
    "id": "EjtCYyg0Fd2I"
   },
   "source": [
    "# Vérification des dimensions et normalisation"
   ]
  },
  {
   "cell_type": "code",
   "execution_count": 3,
   "metadata": {
    "colab": {
     "base_uri": "https://localhost:8080/",
     "height": 0
    },
    "id": "S3THcTFWG7my",
    "outputId": "91ff7d9a-ed4e-403f-8287-ac2efc64527d"
   },
   "outputs": [
    {
     "data": {
      "text/plain": [
       "(60000, 28, 28)"
      ]
     },
     "execution_count": 3,
     "metadata": {},
     "output_type": "execute_result"
    }
   ],
   "source": [
    "x_train.shape"
   ]
  },
  {
   "cell_type": "code",
   "execution_count": 4,
   "metadata": {
    "colab": {
     "base_uri": "https://localhost:8080/",
     "height": 0
    },
    "id": "zFsFOrO-o5I0",
    "outputId": "d8f81486-f9f8-4649-8ca2-2535d20498a0"
   },
   "outputs": [
    {
     "data": {
      "text/plain": [
       "(10000, 28, 28)"
      ]
     },
     "execution_count": 4,
     "metadata": {},
     "output_type": "execute_result"
    }
   ],
   "source": [
    "x_test.shape"
   ]
  },
  {
   "cell_type": "code",
   "execution_count": 5,
   "metadata": {
    "colab": {
     "base_uri": "https://localhost:8080/",
     "height": 0
    },
    "id": "2xYpCkX7pJCL",
    "outputId": "293a3c72-f2da-4ab0-92e0-ad394ad8184e"
   },
   "outputs": [
    {
     "data": {
      "text/plain": [
       "(60000,)"
      ]
     },
     "execution_count": 5,
     "metadata": {},
     "output_type": "execute_result"
    }
   ],
   "source": [
    "y_train.shape"
   ]
  },
  {
   "cell_type": "code",
   "execution_count": 6,
   "metadata": {
    "colab": {
     "base_uri": "https://localhost:8080/",
     "height": 0
    },
    "id": "rkX84ixvpNe5",
    "outputId": "6408e460-e377-46c4-caf1-4bc24b39f979"
   },
   "outputs": [
    {
     "data": {
      "text/plain": [
       "(10000,)"
      ]
     },
     "execution_count": 6,
     "metadata": {},
     "output_type": "execute_result"
    }
   ],
   "source": [
    "y_test.shape"
   ]
  },
  {
   "cell_type": "code",
   "execution_count": 26,
   "metadata": {
    "colab": {
     "base_uri": "https://localhost:8080/",
     "height": 0
    },
    "id": "4Q6ERuOgp7sV",
    "outputId": "f3263f91-6421-403f-913f-b01395378a2a"
   },
   "outputs": [
    {
     "data": {
      "text/plain": [
       "(60000,)"
      ]
     },
     "execution_count": 26,
     "metadata": {},
     "output_type": "execute_result"
    }
   ],
   "source": [
    "y_train.shape"
   ]
  },
  {
   "cell_type": "code",
   "execution_count": 8,
   "metadata": {
    "id": "QkhN4qKvrSxm"
   },
   "outputs": [],
   "source": [
    "# Reshape each 28x28 image -> 784 dim. vector\n",
    "x_train = x_train.reshape(60000, 784)\n",
    "x_test = x_test.reshape(10000, 784)\n",
    "x_train = x_train.astype('float32')\n",
    "x_test = x_test.astype('float32')\n",
    "# Normalization\n",
    "x_train /= 255\n",
    "x_test /= 255"
   ]
  },
  {
   "cell_type": "code",
   "execution_count": 9,
   "metadata": {
    "colab": {
     "base_uri": "https://localhost:8080/",
     "height": 0
    },
    "id": "3YYB4NifsVpR",
    "outputId": "f0a8889a-1ca8-402d-bcd1-65a341ef0946"
   },
   "outputs": [
    {
     "data": {
      "text/plain": [
       "(60000, 784)"
      ]
     },
     "execution_count": 9,
     "metadata": {},
     "output_type": "execute_result"
    }
   ],
   "source": [
    "x_train.shape"
   ]
  },
  {
   "cell_type": "code",
   "execution_count": 27,
   "metadata": {
    "colab": {
     "base_uri": "https://localhost:8080/",
     "height": 0
    },
    "id": "u2wGPVmiF6jS",
    "outputId": "041320a1-bff0-4bff-89ad-0c62c1048207"
   },
   "outputs": [
    {
     "data": {
      "text/plain": [
       "(10000, 784)"
      ]
     },
     "execution_count": 27,
     "metadata": {},
     "output_type": "execute_result"
    }
   ],
   "source": [
    "x_test.shape"
   ]
  },
  {
   "cell_type": "markdown",
   "metadata": {
    "id": "TAzw-fODGG-e"
   },
   "source": [
    "# Apprentissage d'un réseaux de neuronnes de classification"
   ]
  },
  {
   "cell_type": "code",
   "execution_count": 17,
   "metadata": {
    "id": "jGBQ_LNjtgmu"
   },
   "outputs": [],
   "source": [
    "model = Sequential()\n",
    "model.add(Dense(100, input_dim=784, activation='sigmoid'))\n",
    "model.add(Dense(10, activation='softmax'))"
   ]
  },
  {
   "cell_type": "markdown",
   "metadata": {
    "id": "fgHMZzpCGcYn"
   },
   "source": [
    "la première couche comprend 100 neuronnes, la dernière couche comprend 10 neuronnes car l'on fait une classification de 10 classes."
   ]
  },
  {
   "cell_type": "code",
   "execution_count": 18,
   "metadata": {
    "colab": {
     "base_uri": "https://localhost:8080/",
     "height": 0
    },
    "id": "JOnUbc08t0Um",
    "outputId": "5e82df8a-7d20-4d67-ec7c-04a110cf5aa8"
   },
   "outputs": [
    {
     "name": "stdout",
     "output_type": "stream",
     "text": [
      "Model: \"sequential_1\"\n",
      "_________________________________________________________________\n",
      " Layer (type)                Output Shape              Param #   \n",
      "=================================================================\n",
      " dense_2 (Dense)             (None, 100)               78500     \n",
      "                                                                 \n",
      " dense_3 (Dense)             (None, 10)                1010      \n",
      "                                                                 \n",
      "=================================================================\n",
      "Total params: 79,510\n",
      "Trainable params: 79,510\n",
      "Non-trainable params: 0\n",
      "_________________________________________________________________\n"
     ]
    }
   ],
   "source": [
    "model.summary()"
   ]
  },
  {
   "cell_type": "code",
   "execution_count": 21,
   "metadata": {
    "id": "pJ5HMw0yt9Ez"
   },
   "outputs": [],
   "source": [
    "model.compile(loss='sparse_categorical_crossentropy',\n",
    "              optimizer='sgd',\n",
    "              metrics=['accuracy'])"
   ]
  },
  {
   "cell_type": "code",
   "execution_count": 24,
   "metadata": {
    "colab": {
     "base_uri": "https://localhost:8080/",
     "height": 0
    },
    "id": "5OA8jcuS7mIv",
    "outputId": "ab68b79e-147f-42be-c0ee-c66c54d8e4c1"
   },
   "outputs": [
    {
     "name": "stdout",
     "output_type": "stream",
     "text": [
      "Epoch 1/100\n",
      "469/469 [==============================] - 2s 4ms/step - loss: 0.4291 - accuracy: 0.8490\n",
      "Epoch 2/100\n",
      "469/469 [==============================] - 2s 4ms/step - loss: 0.4281 - accuracy: 0.8495\n",
      "Epoch 3/100\n",
      "469/469 [==============================] - 2s 4ms/step - loss: 0.4270 - accuracy: 0.8500\n",
      "Epoch 4/100\n",
      "469/469 [==============================] - 2s 4ms/step - loss: 0.4259 - accuracy: 0.8504\n",
      "Epoch 5/100\n",
      "469/469 [==============================] - 2s 4ms/step - loss: 0.4248 - accuracy: 0.8504\n",
      "Epoch 6/100\n",
      "469/469 [==============================] - 2s 4ms/step - loss: 0.4240 - accuracy: 0.8509\n",
      "Epoch 7/100\n",
      "469/469 [==============================] - 2s 4ms/step - loss: 0.4230 - accuracy: 0.8512\n",
      "Epoch 8/100\n",
      "469/469 [==============================] - 2s 4ms/step - loss: 0.4220 - accuracy: 0.8519\n",
      "Epoch 9/100\n",
      "469/469 [==============================] - 2s 4ms/step - loss: 0.4211 - accuracy: 0.8522\n",
      "Epoch 10/100\n",
      "469/469 [==============================] - 2s 4ms/step - loss: 0.4201 - accuracy: 0.8522\n",
      "Epoch 11/100\n",
      "469/469 [==============================] - 2s 4ms/step - loss: 0.4192 - accuracy: 0.8525\n",
      "Epoch 12/100\n",
      "469/469 [==============================] - 2s 4ms/step - loss: 0.4183 - accuracy: 0.8526\n",
      "Epoch 13/100\n",
      "469/469 [==============================] - 2s 4ms/step - loss: 0.4173 - accuracy: 0.8531\n",
      "Epoch 14/100\n",
      "469/469 [==============================] - 2s 4ms/step - loss: 0.4165 - accuracy: 0.8530\n",
      "Epoch 15/100\n",
      "469/469 [==============================] - 2s 4ms/step - loss: 0.4156 - accuracy: 0.8537\n",
      "Epoch 16/100\n",
      "469/469 [==============================] - 2s 4ms/step - loss: 0.4148 - accuracy: 0.8539\n",
      "Epoch 17/100\n",
      "469/469 [==============================] - 2s 4ms/step - loss: 0.4139 - accuracy: 0.8543\n",
      "Epoch 18/100\n",
      "469/469 [==============================] - 2s 4ms/step - loss: 0.4130 - accuracy: 0.8545\n",
      "Epoch 19/100\n",
      "469/469 [==============================] - 2s 4ms/step - loss: 0.4123 - accuracy: 0.8550\n",
      "Epoch 20/100\n",
      "469/469 [==============================] - 2s 4ms/step - loss: 0.4114 - accuracy: 0.8551\n",
      "Epoch 21/100\n",
      "469/469 [==============================] - 2s 4ms/step - loss: 0.4107 - accuracy: 0.8552\n",
      "Epoch 22/100\n",
      "469/469 [==============================] - 2s 4ms/step - loss: 0.4099 - accuracy: 0.8559\n",
      "Epoch 23/100\n",
      "469/469 [==============================] - 2s 4ms/step - loss: 0.4091 - accuracy: 0.8557\n",
      "Epoch 24/100\n",
      "469/469 [==============================] - 2s 4ms/step - loss: 0.4083 - accuracy: 0.8565\n",
      "Epoch 25/100\n",
      "469/469 [==============================] - 2s 4ms/step - loss: 0.4076 - accuracy: 0.8565\n",
      "Epoch 26/100\n",
      "469/469 [==============================] - 2s 4ms/step - loss: 0.4067 - accuracy: 0.8568\n",
      "Epoch 27/100\n",
      "469/469 [==============================] - 2s 4ms/step - loss: 0.4061 - accuracy: 0.8569\n",
      "Epoch 28/100\n",
      "469/469 [==============================] - 2s 4ms/step - loss: 0.4053 - accuracy: 0.8567\n",
      "Epoch 29/100\n",
      "469/469 [==============================] - 2s 4ms/step - loss: 0.4047 - accuracy: 0.8575\n",
      "Epoch 30/100\n",
      "469/469 [==============================] - 2s 4ms/step - loss: 0.4038 - accuracy: 0.8581\n",
      "Epoch 31/100\n",
      "469/469 [==============================] - 2s 5ms/step - loss: 0.4032 - accuracy: 0.8574\n",
      "Epoch 32/100\n",
      "469/469 [==============================] - 2s 4ms/step - loss: 0.4024 - accuracy: 0.8584\n",
      "Epoch 33/100\n",
      "469/469 [==============================] - 2s 4ms/step - loss: 0.4018 - accuracy: 0.8584\n",
      "Epoch 34/100\n",
      "469/469 [==============================] - 2s 4ms/step - loss: 0.4011 - accuracy: 0.8584\n",
      "Epoch 35/100\n",
      "469/469 [==============================] - 2s 4ms/step - loss: 0.4003 - accuracy: 0.8589\n",
      "Epoch 36/100\n",
      "469/469 [==============================] - 2s 4ms/step - loss: 0.3997 - accuracy: 0.8587\n",
      "Epoch 37/100\n",
      "469/469 [==============================] - 2s 4ms/step - loss: 0.3990 - accuracy: 0.8594\n",
      "Epoch 38/100\n",
      "469/469 [==============================] - 2s 4ms/step - loss: 0.3984 - accuracy: 0.8590\n",
      "Epoch 39/100\n",
      "469/469 [==============================] - 2s 4ms/step - loss: 0.3977 - accuracy: 0.8590\n",
      "Epoch 40/100\n",
      "469/469 [==============================] - 2s 4ms/step - loss: 0.3970 - accuracy: 0.8600\n",
      "Epoch 41/100\n",
      "469/469 [==============================] - 2s 4ms/step - loss: 0.3965 - accuracy: 0.8602\n",
      "Epoch 42/100\n",
      "469/469 [==============================] - 2s 4ms/step - loss: 0.3959 - accuracy: 0.8604\n",
      "Epoch 43/100\n",
      "469/469 [==============================] - 2s 4ms/step - loss: 0.3952 - accuracy: 0.8605\n",
      "Epoch 44/100\n",
      "469/469 [==============================] - 2s 4ms/step - loss: 0.3946 - accuracy: 0.8607\n",
      "Epoch 45/100\n",
      "469/469 [==============================] - 2s 4ms/step - loss: 0.3939 - accuracy: 0.8612\n",
      "Epoch 46/100\n",
      "469/469 [==============================] - 2s 4ms/step - loss: 0.3934 - accuracy: 0.8609\n",
      "Epoch 47/100\n",
      "469/469 [==============================] - 2s 4ms/step - loss: 0.3928 - accuracy: 0.8613\n",
      "Epoch 48/100\n",
      "469/469 [==============================] - 2s 4ms/step - loss: 0.3922 - accuracy: 0.8611\n",
      "Epoch 49/100\n",
      "469/469 [==============================] - 2s 4ms/step - loss: 0.3916 - accuracy: 0.8617\n",
      "Epoch 50/100\n",
      "469/469 [==============================] - 2s 4ms/step - loss: 0.3911 - accuracy: 0.8620\n",
      "Epoch 51/100\n",
      "469/469 [==============================] - 2s 4ms/step - loss: 0.3904 - accuracy: 0.8623\n",
      "Epoch 52/100\n",
      "469/469 [==============================] - 2s 4ms/step - loss: 0.3899 - accuracy: 0.8624\n",
      "Epoch 53/100\n",
      "469/469 [==============================] - 2s 4ms/step - loss: 0.3893 - accuracy: 0.8627\n",
      "Epoch 54/100\n",
      "469/469 [==============================] - 2s 4ms/step - loss: 0.3887 - accuracy: 0.8627\n",
      "Epoch 55/100\n",
      "469/469 [==============================] - 2s 4ms/step - loss: 0.3883 - accuracy: 0.8627\n",
      "Epoch 56/100\n",
      "469/469 [==============================] - 2s 4ms/step - loss: 0.3876 - accuracy: 0.8632\n",
      "Epoch 57/100\n",
      "469/469 [==============================] - 2s 4ms/step - loss: 0.3870 - accuracy: 0.8633\n",
      "Epoch 58/100\n",
      "469/469 [==============================] - 2s 4ms/step - loss: 0.3865 - accuracy: 0.8637\n",
      "Epoch 59/100\n",
      "469/469 [==============================] - 2s 4ms/step - loss: 0.3860 - accuracy: 0.8640\n",
      "Epoch 60/100\n",
      "469/469 [==============================] - 2s 4ms/step - loss: 0.3855 - accuracy: 0.8640\n",
      "Epoch 61/100\n",
      "469/469 [==============================] - 2s 4ms/step - loss: 0.3849 - accuracy: 0.8642\n",
      "Epoch 62/100\n",
      "469/469 [==============================] - 2s 4ms/step - loss: 0.3843 - accuracy: 0.8642\n",
      "Epoch 63/100\n",
      "469/469 [==============================] - 2s 4ms/step - loss: 0.3839 - accuracy: 0.8640\n",
      "Epoch 64/100\n",
      "469/469 [==============================] - 2s 4ms/step - loss: 0.3834 - accuracy: 0.8644\n",
      "Epoch 65/100\n",
      "469/469 [==============================] - 2s 4ms/step - loss: 0.3830 - accuracy: 0.8651\n",
      "Epoch 66/100\n",
      "469/469 [==============================] - 2s 4ms/step - loss: 0.3823 - accuracy: 0.8650\n",
      "Epoch 67/100\n",
      "469/469 [==============================] - 2s 4ms/step - loss: 0.3819 - accuracy: 0.8647\n",
      "Epoch 68/100\n",
      "469/469 [==============================] - 2s 4ms/step - loss: 0.3813 - accuracy: 0.8657\n",
      "Epoch 69/100\n",
      "469/469 [==============================] - 2s 4ms/step - loss: 0.3808 - accuracy: 0.8655\n",
      "Epoch 70/100\n",
      "469/469 [==============================] - 2s 4ms/step - loss: 0.3803 - accuracy: 0.8653\n",
      "Epoch 71/100\n",
      "469/469 [==============================] - 2s 4ms/step - loss: 0.3797 - accuracy: 0.8662\n",
      "Epoch 72/100\n",
      "469/469 [==============================] - 2s 4ms/step - loss: 0.3793 - accuracy: 0.8664\n",
      "Epoch 73/100\n",
      "469/469 [==============================] - 2s 4ms/step - loss: 0.3788 - accuracy: 0.8661\n",
      "Epoch 74/100\n",
      "469/469 [==============================] - 2s 4ms/step - loss: 0.3783 - accuracy: 0.8665\n",
      "Epoch 75/100\n",
      "469/469 [==============================] - 2s 4ms/step - loss: 0.3779 - accuracy: 0.8663\n",
      "Epoch 76/100\n",
      "469/469 [==============================] - 2s 4ms/step - loss: 0.3774 - accuracy: 0.8665\n",
      "Epoch 77/100\n",
      "469/469 [==============================] - 2s 4ms/step - loss: 0.3769 - accuracy: 0.8664\n",
      "Epoch 78/100\n",
      "469/469 [==============================] - 2s 4ms/step - loss: 0.3765 - accuracy: 0.8666\n",
      "Epoch 79/100\n",
      "469/469 [==============================] - 2s 4ms/step - loss: 0.3759 - accuracy: 0.8671\n",
      "Epoch 80/100\n",
      "469/469 [==============================] - 2s 4ms/step - loss: 0.3755 - accuracy: 0.8675\n",
      "Epoch 81/100\n",
      "469/469 [==============================] - 2s 4ms/step - loss: 0.3750 - accuracy: 0.8677\n",
      "Epoch 82/100\n",
      "469/469 [==============================] - 2s 4ms/step - loss: 0.3746 - accuracy: 0.8674\n",
      "Epoch 83/100\n",
      "469/469 [==============================] - 2s 4ms/step - loss: 0.3742 - accuracy: 0.8680\n",
      "Epoch 84/100\n",
      "469/469 [==============================] - 2s 4ms/step - loss: 0.3737 - accuracy: 0.8680\n",
      "Epoch 85/100\n",
      "469/469 [==============================] - 2s 4ms/step - loss: 0.3733 - accuracy: 0.8680\n",
      "Epoch 86/100\n",
      "469/469 [==============================] - 2s 4ms/step - loss: 0.3728 - accuracy: 0.8682\n",
      "Epoch 87/100\n",
      "469/469 [==============================] - 2s 4ms/step - loss: 0.3724 - accuracy: 0.8691\n",
      "Epoch 88/100\n",
      "469/469 [==============================] - 2s 4ms/step - loss: 0.3719 - accuracy: 0.8690\n",
      "Epoch 89/100\n",
      "469/469 [==============================] - 2s 4ms/step - loss: 0.3715 - accuracy: 0.8683\n",
      "Epoch 90/100\n",
      "469/469 [==============================] - 2s 4ms/step - loss: 0.3711 - accuracy: 0.8684\n",
      "Epoch 91/100\n",
      "469/469 [==============================] - 2s 4ms/step - loss: 0.3706 - accuracy: 0.8686\n",
      "Epoch 92/100\n",
      "469/469 [==============================] - 2s 4ms/step - loss: 0.3702 - accuracy: 0.8695\n",
      "Epoch 93/100\n",
      "469/469 [==============================] - 2s 4ms/step - loss: 0.3698 - accuracy: 0.8692\n",
      "Epoch 94/100\n",
      "469/469 [==============================] - 2s 4ms/step - loss: 0.3695 - accuracy: 0.8693\n",
      "Epoch 95/100\n",
      "469/469 [==============================] - 2s 4ms/step - loss: 0.3689 - accuracy: 0.8696\n",
      "Epoch 96/100\n",
      "469/469 [==============================] - 2s 4ms/step - loss: 0.3685 - accuracy: 0.8698\n",
      "Epoch 97/100\n",
      "469/469 [==============================] - 2s 4ms/step - loss: 0.3682 - accuracy: 0.8698\n",
      "Epoch 98/100\n",
      "469/469 [==============================] - 2s 4ms/step - loss: 0.3678 - accuracy: 0.8698\n",
      "Epoch 99/100\n",
      "469/469 [==============================] - 2s 5ms/step - loss: 0.3672 - accuracy: 0.8701\n",
      "Epoch 100/100\n",
      "469/469 [==============================] - 3s 6ms/step - loss: 0.3669 - accuracy: 0.8702\n"
     ]
    },
    {
     "data": {
      "text/plain": [
       "<keras.callbacks.History at 0x7fc879d00d00>"
      ]
     },
     "execution_count": 24,
     "metadata": {},
     "output_type": "execute_result"
    }
   ],
   "source": [
    "model.fit(x_train, y_train,\n",
    "          epochs=100,\n",
    "          batch_size=128)"
   ]
  },
  {
   "cell_type": "code",
   "execution_count": 25,
   "metadata": {
    "colab": {
     "base_uri": "https://localhost:8080/",
     "height": 0
    },
    "id": "FQUazYnBD9qL",
    "outputId": "1902e1ed-143e-4977-ff39-df56eb74fbf9"
   },
   "outputs": [
    {
     "name": "stdout",
     "output_type": "stream",
     "text": [
      "313/313 [==============================] - 1s 2ms/step - loss: 0.4085 - accuracy: 0.8533\n"
     ]
    },
    {
     "data": {
      "text/plain": [
       "[0.40848392248153687, 0.8532999753952026]"
      ]
     },
     "execution_count": 25,
     "metadata": {},
     "output_type": "execute_result"
    }
   ],
   "source": [
    "model.evaluate(x_test,y_test)"
   ]
  }
 ],
 "metadata": {
  "colab": {
   "provenance": []
  },
  "kernelspec": {
   "display_name": "Python 3 (ipykernel)",
   "language": "python",
   "name": "python3"
  },
  "language_info": {
   "codemirror_mode": {
    "name": "ipython",
    "version": 3
   },
   "file_extension": ".py",
   "mimetype": "text/x-python",
   "name": "python",
   "nbconvert_exporter": "python",
   "pygments_lexer": "ipython3",
   "version": "3.9.12"
  }
 },
 "nbformat": 4,
 "nbformat_minor": 1
}
